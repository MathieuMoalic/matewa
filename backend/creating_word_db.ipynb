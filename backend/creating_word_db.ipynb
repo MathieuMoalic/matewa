{
 "cells": [
  {
   "cell_type": "code",
   "execution_count": 3,
   "source": [
    "import numpy as np\n",
    "import requests\n",
    "import json\n",
    "import time"
   ],
   "outputs": [],
   "metadata": {}
  },
  {
   "cell_type": "code",
   "execution_count": 29,
   "source": [
    "url = \"http://localhost:8000/word/\"\n",
    "header = {\"content-type\": \"application/json\"}\n",
    "for word in words:\n",
    "    payload = {\"en\":word[0],\"fr\":word[1],\"pl\":word[2]}\n",
    "    response= requests.post(url,data=json.dumps(payload), headers=header, verify=False)\n",
    "    time.sleep(0.1)"
   ],
   "outputs": [],
   "metadata": {}
  },
  {
   "cell_type": "code",
   "execution_count": null,
   "source": [
    "def get_transl(en):\n",
    "    url = \"https://microsoft-translator-text.p.rapidapi.com/translate\"\n",
    "\n",
    "    querystring = {\"api-version\":\"3.0\",\"to\":\"fr,pl\",\"suggestedFrom\":\"en\",\"textType\":\"plain\",\"profanityAction\":\"NoAction\"}\n",
    "\n",
    "    payload = \"[\\r\\n    {\\r\\n        \\\"Text\\\": \\\"\"+en+\"\\\"\\r\\n    }\\r\\n]\"\n",
    "    headers = {\n",
    "        'content-type': \"application/json\",\n",
    "        'x-rapidapi-host': \"microsoft-translator-text.p.rapidapi.com\",\n",
    "        'x-rapidapi-key': \"2c34c1cfa6mshdf73e28355332f6p140e87jsn7b5f974caa29\"\n",
    "        }\n",
    "\n",
    "    response = requests.request(\"POST\", url, data=payload, headers=headers, params=querystring)\n",
    "\n",
    "    fr =  response.json()[0]['translations'][0]['text']\n",
    "    pl =  response.json()[0]['translations'][1]['text']\n",
    "    return (fr,pl)\n",
    "words = []\n",
    "for en in words_en:\n",
    "    fr,pl = get_transl(en)\n",
    "    print(en,fr,pl)\n",
    "    words.append([en,fr,pl])\n",
    "    time.sleep(0.1)"
   ],
   "outputs": [],
   "metadata": {}
  },
  {
   "cell_type": "code",
   "execution_count": 26,
   "source": [
    "np.savetxt(\"words.txt\",words,fmt=\"%s\")"
   ],
   "outputs": [],
   "metadata": {}
  },
  {
   "cell_type": "code",
   "execution_count": 42,
   "source": [
    "np.savetxt(\"words2.txt\",words,delimiter=\",\",fmt='%s')"
   ],
   "outputs": [],
   "metadata": {}
  },
  {
   "cell_type": "code",
   "execution_count": 46,
   "source": [
    "with open(\"words2.txt\",\"r\") as f:\n",
    "    for line in f:\n",
    "        en,fr,pl = line.strip().split(\",\")\n",
    "        print(en.capitalize(),fr.capitalize(),pl.capitalize())"
   ],
   "outputs": [
    {
     "output_type": "stream",
     "name": "stdout",
     "text": [
      "Be Être Być\n",
      "Have Avoir Mieć\n",
      "Do De Zrób\n",
      "Say Dire Powiedzieć\n",
      "Go Aller Iść\n",
      "Can Pouvoir Puszka\n",
      "Get Avoir Pobierz\n",
      "Would Serait Chciałby\n",
      "Make Faire Robić\n",
      "Know Savoir Wiedzieć\n",
      "Will Volonté Wola\n",
      "Think Penser Myśleć\n",
      "Take Prendre Brać\n",
      "See Voir Widzieć\n",
      "Come Comment Co\n",
      "Could Purent Może\n",
      "Want Vouloir Chcieć\n",
      "Look Regarder Patrzeć\n",
      "Use Utiliser Używać\n",
      "Find Trouver Znaleźć\n",
      "Give Donner Dać\n",
      "Tell Raconter Powiedzieć\n",
      "Work Travail Praca\n",
      "May Mai Maj\n",
      "Should Devoir Powinien\n",
      "Call Appeler Nazwać\n",
      "Try Essayer Próbować\n",
      "Ask Demander Pytać\n",
      "Need Besoin Potrzeba\n",
      "Feel Sentir Czuć\n",
      "Become Devenir Stawać się\n",
      "Leave Partir Opuszczać\n",
      "Put Mettre Kłaść\n",
      "Mean Méchant Znaczyć\n",
      "Keep Garder Zachować\n",
      "Let Laisser Pozwalać\n",
      "Begin Commencer Zaczynać\n",
      "Seem Sembler Wydawać się\n",
      "Help Aide Pomoc\n",
      "Talk Parler Mówić\n",
      "Turn Tourner Skręcić\n",
      "Start Commencer Początek\n",
      "Might Puissance Potęga\n",
      "Show Montrer Pokazać\n",
      "Hear Entendre Słyszeć\n",
      "Play Jouer Grać\n",
      "Run Courir Biegać\n",
      "Move Bouger Ruszać\n",
      "Like Comme Lubić\n",
      "Live Vivre Mieszkać\n",
      "Believe Croire Wierzyć\n",
      "Hold Tenir Trzymać\n",
      "Bring Apporter Przynieść\n",
      "Happen Arriver Dziać się\n",
      "Must Devoir Musieć\n",
      "Write Écrire Pisać\n",
      "Provide Fournir Dostarczać\n",
      "Sit S’asseoir Siedzieć\n",
      "Stand Stand Stać\n",
      "Lose Perdre Zgubić\n",
      "Pay Payer Płacić\n",
      "Meet Rencontrer Spełnić\n",
      "Include Inclure Zawierać\n",
      "Continue Continuer Kontynuować\n",
      "Set Poser Zbiór\n",
      "Learn Apprendre Uczyć się\n",
      "Change Changement Zmieniać\n",
      "Lead Plomb Ołów\n",
      "Understand Comprendre Rozumieć\n",
      "Watch Montre Zegarek\n",
      "Follow Suivre Następować\n",
      "Stop Arrêter Zatrzymać\n",
      "Create Créer Tworzyć\n",
      "Speak Parler Mówić\n",
      "Read Lire Czytać\n",
      "Allow Permettre Pozwolić\n",
      "Add Ajouter Dodawać\n",
      "Spend Dépenser Spędzać\n",
      "Grow Grandir Rosnąć\n",
      "Open Ouvrir Otwierać\n",
      "Walk Marcher Iść\n",
      "Win Gagner Wygrać\n",
      "Offer Offrir Oferta\n",
      "Remember Se Souvenir pamiętać\n",
      "Love Amour Miłość\n",
      "Consider Considérer Rozważać\n",
      "Appear Apparaître Pojawić się\n",
      "Buy Acheter Kupić\n",
      "Wait Attendre Czekać\n",
      "Serve Servir Służyć\n",
      "Die Les Ten\n",
      "Send Envoyer Wyślij\n",
      "Expect Attendre Oczekiwać\n",
      "Build Construire Budować\n",
      "Stay Rester Pobyt\n",
      "Fall Tomber Jesień\n",
      "Cut Couper Ciąć\n",
      "Reach Atteindre Osiągnąć\n",
      "Kill Tuer Zabić\n",
      "Remain Rester Pozostać\n"
     ]
    }
   ],
   "metadata": {}
  }
 ],
 "metadata": {
  "orig_nbformat": 4,
  "language_info": {
   "name": "python",
   "version": "3.9.0+",
   "mimetype": "text/x-python",
   "codemirror_mode": {
    "name": "ipython",
    "version": 3
   },
   "pygments_lexer": "ipython3",
   "nbconvert_exporter": "python",
   "file_extension": ".py"
  },
  "kernelspec": {
   "name": "python3",
   "display_name": "Python 3.9.0 64-bit ('env': venv)"
  },
  "interpreter": {
   "hash": "9072b64dadd59209611fda4a3efb10b80db4a892b59a68ceda22557719eb865e"
  }
 },
 "nbformat": 4,
 "nbformat_minor": 2
}